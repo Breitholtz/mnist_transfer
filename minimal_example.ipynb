{
 "cells": [
  {
   "cell_type": "code",
   "execution_count": 1,
   "metadata": {},
   "outputs": [],
   "source": [
    "from __future__ import print_function \n",
    "\n",
    "#%load_ext autoreload\n",
    "#%autoreload 2\n",
    "\n",
    "from matplotlib import pyplot as plt\n",
    "%matplotlib inline\n",
    "\n",
    "import os, sys\n",
    "import numpy as np\n",
    "import time\n",
    "\n",
    "import tensorflow as tf\n",
    "\n",
    "from sklearn.model_selection import train_test_split\n",
    "from tensorflow.python.keras.layers import deserialize, serialize\n",
    "from tensorflow.python.keras.saving import saving_utils\n",
    "\n",
    "# Project imports \n",
    "from data import mnist,mnist_m\n",
    "from data.tasks import *\n",
    "from data.label_shift import label_shift_linear, plot_labeldist, plot_splitbars\n",
    "from experiments.models import *\n",
    "from experiments.SL_bound import *\n",
    "from util.kl import *\n",
    "from util.misc import *\n",
    "from results.plotting import *\n",
    "\n",
    "# Hyper-parameters\n",
    "#batch_size = 128\n",
    "num_classes = 10\n",
    "make_plots = False\n",
    "\n",
    "delta=0.05 ## what would this be?   \n",
    "\n",
    "img_rows, img_cols = 32, 32\n",
    "project_folder = \"/cephyr/users/adambre/Alvis/\"\n",
    "\n",
    "# # check output_dir, create it if not exists\n",
    "#     if not os.path.isdir(output_dir):\n",
    "#         os.makedirs(output_dir)"
   ]
  },
  {
   "cell_type": "markdown",
   "metadata": {},
   "source": [
    "# Load and structure data"
   ]
  },
  {
   "cell_type": "code",
   "execution_count": 2,
   "metadata": {},
   "outputs": [
    {
     "name": "stdout",
     "output_type": "stream",
     "text": [
      "mean, variance 0.36348352 70.18035\n",
      "---------------Load MNIST----------------\n",
      "Training set (60000, 32, 32, 3) (60000, 10)\n",
      "Test set (10000, 32, 32, 3) (10000, 10)\n",
      "\n",
      "\n",
      "mean, variance 0.5223306 60.093555\n",
      "---------------Load USPS----------------\n",
      "Training set (7438, 32, 32, 3) (7438, 10)\n",
      "Test set (1860, 32, 32, 3) (1860, 10)\n",
      "\n",
      "\n"
     ]
    }
   ],
   "source": [
    "TASK=4\n",
    "x_source,y_source,x_target,y_target=load_task(TASK)\n",
    "\n",
    "#data_path=\"/home/adam/Code/Datasets/chexpert/1.0.0/\"\n",
    "#data_path2=\"/home/adam/Code/Datasets/chexpert/CheXpert-v1.0-small\"\n",
    "\n",
    "    \n"
   ]
  },
  {
   "cell_type": "code",
   "execution_count": 3,
   "metadata": {},
   "outputs": [],
   "source": [
    "from experiments.training import *\n",
    "\n",
    "\n",
    "\n",
    "def find_optimal_sigma(sigmas,epsilon, alpha,Binary=False,Task=2):\n",
    "    #### to find the optimal sigma just do a search through all the results \n",
    "    #### and save the one for each parameter which has the minimal bound\n",
    "    #### Do we do this per epoch or for some other value? The sigma which yields the lowest bound overall for some epoch?\n",
    "    optimal=[0,1]\n",
    "    # search through all epochs and pick the sigma which yields the smallest bound during the whole training process\n",
    "    for sigma in sigmas:\n",
    "        sigma_tmp=sigma\n",
    "        sigma=sigma[0]*10**(-1*sigma[1])\n",
    "        if Binary:\n",
    "            result_path=\"results/\"+\"task\"+str(TASK)+\"/Binary/\"+str(int(1000*epsilon))+\"_\"+str(int(100*alpha))+\"_\"+str(sigma_tmp[0])+str(sigma_tmp[1])\n",
    "        else:\n",
    "            result_path=\"results/\"+\"task\"+str(TASK)+\"/\"+str(int(1000*epsilon))+\"_\"+str(int(100*alpha))+\"_\"+str(sigma_tmp[0])+str(sigma_tmp[1])\n",
    "        results=pd.read_pickle(result_path+\"_results.pkl\")\n",
    "        MIN=np.min(results[\"Bound\"])\n",
    "        if (MIN<optimal[1]):\n",
    "            optimal[1]=MIN\n",
    "            optimal[0]=sigma\n",
    "    print(\"The optimal sigma is {} with bound value {}\".format(optimal[0],optimal[1]))\n"
   ]
  },
  {
   "cell_type": "markdown",
   "metadata": {},
   "source": [
    "# Training"
   ]
  },
  {
   "cell_type": "code",
   "execution_count": 4,
   "metadata": {},
   "outputs": [
    {
     "name": "stdout",
     "output_type": "stream",
     "text": [
      "mean, variance 0.36348352 70.18035\n",
      "---------------Load MNIST----------------\n",
      "Training set (60000, 32, 32, 3) (60000, 10)\n",
      "Test set (10000, 32, 32, 3) (10000, 10)\n",
      "\n",
      "\n",
      "mean, variance 0.5223306 60.093555\n",
      "---------------Load USPS----------------\n",
      "Training set (7438, 32, 32, 3) (7438, 10)\n",
      "Test set (1860, 32, 32, 3) (1860, 10)\n",
      "\n",
      "\n",
      "\n",
      " !!! training error threshold reached, no further training !!!\n",
      "----------------------------------------\n",
      "Finished training first posterior epoch\n",
      "\n",
      "Epoch 00001: saving model to posteriors/task4/Binary/lenet/100_0/2_1.ckpt\n",
      "\n",
      " !!! training error threshold reached, no further training !!!\n",
      "----------------------------------------\n",
      "Finished training posterior\n",
      "Alpha is:0.1\n",
      "----------------------------------------\n",
      "Finished training prior\n",
      "----------------------------------------\n",
      "Finished computing prior sample and target errors\n",
      "\n",
      " !!! training error threshold reached, no further training !!!\n",
      "----------------------------------------\n",
      "Finished training first posterior epoch\n",
      "\n",
      "Epoch 00001: saving model to posteriors/task4/Binary/lenet/100_10/2_1.ckpt\n",
      "\n",
      " !!! training error threshold reached, no further training !!!\n",
      "----------------------------------------\n",
      "Finished training posterior\n"
     ]
    }
   ],
   "source": [
    "#alphas=[0.1,0.2,0.3,0.4,0.5,0.6,0.7,0.8,0.9]\n",
    "alphas=[0,0.1]\n",
    "epsilons=[0.1]#,0.01,0.001]\n",
    "tasks=[4]\n",
    "for t in tasks:\n",
    "    x_source,y_source,x_target,y_target=load_task(t)\n",
    "    for alpha in alphas:\n",
    "        if alpha==0:\n",
    "            pass\n",
    "        else:\n",
    "            print(\"Alpha is:\"+str(alpha))\n",
    "            x_bound, x_prior, y_bound , y_prior = train_test_split(x_source,y_source,test_size=alpha,random_state=69105)\n",
    "            w_a=train_prior(alpha,1,x_source,y_source,x_target=x_target,y_target=y_target,save=True,Task=t,Binary=True,batch_size=128)\n",
    "        for epsilon in epsilons:\n",
    "            w_s=train_posterior(alpha,x_source,y_source,None,x_test=x_source,y_test=y_source,epsilon=epsilon,Task=t,Binary=True,batch_size=128)\n",
    "            #for sigma in sigmas:\n",
    "                #res=read_and_prepare_results(alpha,x_source,y_source_bin,x_target,y_target_bin,sigma,delta,len(x_source),epsilon,Binary=True)#x_bound,y_bound,x_target,y_target_bin,sigma,delta,len(x_bound),epsilon,Binary=True)\n",
    "                #plot_result_file(epsilon,alpha,sigma,TASK,Binary=True)"
   ]
  }
 ],
 "metadata": {
  "kernelspec": {
   "display_name": "Python 3 (ipykernel)",
   "language": "python",
   "name": "python3"
  },
  "language_info": {
   "codemirror_mode": {
    "name": "ipython",
    "version": 3
   },
   "file_extension": ".py",
   "mimetype": "text/x-python",
   "name": "python",
   "nbconvert_exporter": "python",
   "pygments_lexer": "ipython3",
   "version": "3.9.7"
  }
 },
 "nbformat": 4,
 "nbformat_minor": 2
}
