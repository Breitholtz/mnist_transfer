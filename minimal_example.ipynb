{
 "cells": [
  {
   "cell_type": "code",
   "execution_count": null,
   "metadata": {},
   "outputs": [],
   "source": [
    "from __future__ import print_function \n",
    "\n",
    "#%load_ext autoreload\n",
    "#%autoreload 2\n",
    "\n",
    "from matplotlib import pyplot as plt\n",
    "%matplotlib inline\n",
    "\n",
    "import os, sys\n",
    "import numpy as np\n",
    "import time\n",
    "\n",
    "import tensorflow as tf\n",
    "\n",
    "from sklearn.model_selection import train_test_split\n",
    "from tensorflow.python.keras.layers import deserialize, serialize\n",
    "from tensorflow.python.keras.saving import saving_utils\n",
    "\n",
    "# Project imports \n",
    "from data import mnist,mnist_m\n",
    "from data.tasks import *\n",
    "from data.label_shift import label_shift_linear, plot_labeldist, plot_splitbars\n",
    "from experiments.models import *\n",
    "#from experiments.SL_bound import *\n",
    "from util.kl import *\n",
    "from util.misc import *\n",
    "from results.plotting import *\n",
    "\n",
    "# Hyper-parameters\n",
    "#batch_size = 128\n",
    "num_classes = 10\n",
    "make_plots = False\n",
    "\n",
    "gpus = tf.config.experimental.list_physical_devices('GPU')\n",
    "if gpus:\n",
    "  # Restrict TensorFlow to only allocate 1*X GB of memory on the first GPU\n",
    "  try:\n",
    "    tf.config.experimental.set_virtual_device_configuration(\n",
    "        gpus[0],\n",
    "        [tf.config.experimental.VirtualDeviceConfiguration(memory_limit=(1024*4))])\n",
    "    logical_gpus = tf.config.experimental.list_logical_devices('GPU')\n",
    "    print(len(gpus), \"Physical GPUs,\", len(logical_gpus), \"Logical GPUs\")\n",
    "  except RuntimeError as e:\n",
    "    # Virtual devices must be set before GPUs have been initialized\n",
    "    print(e)\n",
    "    \n",
    "img_rows, img_cols = 32, 32\n",
    "project_folder = \"/cephyr/users/adambre/Alvis/\"\n",
    "\n",
    "# # check output_dir, create it if not exists\n",
    "#     if not os.path.isdir(output_dir):\n",
    "#         os.makedirs(output_dir)"
   ]
  },
  {
   "cell_type": "markdown",
   "metadata": {},
   "source": [
    "# Load data"
   ]
  },
  {
   "cell_type": "code",
   "execution_count": null,
   "metadata": {},
   "outputs": [],
   "source": [
    "import time\n",
    "import os\n",
    "import numpy as np\n",
    "import pandas as pd\n",
    "\n"
   ]
  },
  {
   "cell_type": "code",
   "execution_count": null,
   "metadata": {},
   "outputs": [],
   "source": [
    "TASK=4\n",
    "x_source,y_source,x_target,y_target=load_task(TASK)\n",
    "\n",
    "## print amount of each labels in the dataset\n",
    "print(len(y_source))\n",
    "print(np.sum(y_source,axis=0))\n",
    "print(\"-\"*40)\n",
    "print(len(y_target))\n",
    "print(np.sum(y_target,axis=0))\n",
    "\n",
    "#data_path=\"/home/adam/Code/Datasets/chexpert/1.0.0/\"\n",
    "#data_path2=\"/home/adam/Code/Datasets/chexpert/CheXpert-v1.0-small\"\n",
    "\n"
   ]
  },
  {
   "cell_type": "code",
   "execution_count": null,
   "metadata": {},
   "outputs": [],
   "source": [
    "from experiments.training import *\n",
    "\n",
    "\n",
    "\n",
    "def find_optimal_sigma(sigmas,epsilon, alpha,Binary=False,Task=2):\n",
    "    #### to find the optimal sigma just do a search through all the results \n",
    "    #### and save the one for each parameter which has the minimal bound\n",
    "    #### Do we do this per epoch or for some other value? The sigma which yields the lowest bound overall for some epoch?\n",
    "    optimal=[0,1]\n",
    "    # search through all epochs and pick the sigma which yields the smallest bound during the whole training process\n",
    "    for sigma in sigmas:\n",
    "        sigma_tmp=sigma\n",
    "        sigma=sigma[0]*10**(-1*sigma[1])\n",
    "        if Binary:\n",
    "            result_path=\"results/\"+\"task\"+str(TASK)+\"/Binary/\"+str(int(1000*epsilon))+\"_\"+str(int(100*alpha))+\"_\"+str(sigma_tmp[0])+str(sigma_tmp[1])\n",
    "        else:\n",
    "            result_path=\"results/\"+\"task\"+str(TASK)+\"/\"+str(int(1000*epsilon))+\"_\"+str(int(100*alpha))+\"_\"+str(sigma_tmp[0])+str(sigma_tmp[1])\n",
    "        results=pd.read_pickle(result_path+\"_results.pkl\")\n",
    "        MIN=np.min(results[\"Bound\"])\n",
    "        if (MIN<optimal[1]):\n",
    "            optimal[1]=MIN\n",
    "            optimal[0]=sigma\n",
    "    print(\"The optimal sigma is {} with bound value {}\".format(optimal[0],optimal[1]))\n"
   ]
  },
  {
   "cell_type": "markdown",
   "metadata": {},
   "source": [
    "# Training"
   ]
  },
  {
   "cell_type": "code",
   "execution_count": null,
   "metadata": {},
   "outputs": [],
   "source": [
    "#alphas=[0.1,0.2,0.3,0.4,0.5,0.6,0.7,0.8,0.9]\n",
    "alphas=[0.1]#,0.2,0.3,0.4,0.5,0.6,0.7,0.8,0.9]#,0.3,0.5,0.7,0.9]\n",
    "epsilons=[0.01]#,0.01,0.001]\n",
    "architectures=[\"lenet\"]\n",
    "tasks=[4]\n",
    "for t in tasks:\n",
    "    x_source,y_source,x_target,y_target=load_task(t)\n",
    "    print(len(y_source))\n",
    "    print(len(y_target))\n",
    "    for arch in architectures:\n",
    "        for alpha in alphas:\n",
    "            if alpha==0:\n",
    "                pass\n",
    "            else:\n",
    "                print(\"Alpha is:\"+str(alpha))\n",
    "                x_bound, x_prior, y_bound , y_prior = train_test_split(x_source,y_source,test_size=alpha,random_state=69105)\n",
    "                w_a=train_prior(alpha,1,x_prior,y_prior,x_target=x_target,y_target=y_target,save=True,Task=t,Binary=True,batch_size=128,architecture=arch)\n",
    "            for epsilon in epsilons:\n",
    "                w_s=train_posterior(alpha,x_source,y_source,None,x_test=x_source,y_test=y_source,save=True,epsilon=epsilon,Task=t,Binary=True,batch_size=128,architecture=arch)"
   ]
  },
  {
   "cell_type": "code",
   "execution_count": null,
   "metadata": {},
   "outputs": [],
   "source": [
    "#alphas=[0.1,0.2,0.3,0.4,0.5,0.6,0.7,0.8,0.9]\n",
    "alphas=[0,0.1,0.2,0.3,0.4,0.5,0.6,0.7,0.8,0.9]#,0.3,0.5,0.7,0.9]\n",
    "epsilons=[0.05]#,0.1,0.05]#[0.03,0.01,0.001] [0.15,0.1,0.05]\n",
    "architectures=[\"lenet\"]\n",
    "tasks=[6]\n",
    "for t in tasks:\n",
    "    \"\"\"\n",
    "    task 6\n",
    "    239886\n",
    "    [174064  65822]\n",
    "    ----------------------------------------\n",
    "    95882\n",
    "    [94126  1756]\n",
    "    \"\"\"\n",
    "    x_source,y_source,x_target,y_target=load_task(t)\n",
    "    print(len(y_source))\n",
    "    print(len(y_target))\n",
    "    for arch in architectures:\n",
    "        for alpha in alphas:\n",
    "            if alpha==0:\n",
    "                pass\n",
    "            else:\n",
    "                print(\"Alpha is:\"+str(alpha))\n",
    "                x_bound, x_prior, y_bound , y_prior = train_test_split(x_source,y_source,test_size=alpha,random_state=69105)\n",
    "                w_a=train_prior(alpha,1,x_prior,y_prior,x_target=x_target,y_target=y_target,save=True,Task=t,Binary=True,batch_size=128,architecture=arch)\n",
    "            for epsilon in epsilons:\n",
    "                w_s=train_posterior(alpha,x_source,y_source,None,x_test=x_source,y_test=y_source,save=True,epsilon=epsilon,Task=t,Binary=True,batch_size=128,architecture=arch)"
   ]
  },
  {
   "cell_type": "code",
   "execution_count": null,
   "metadata": {},
   "outputs": [],
   "source": []
  }
 ],
 "metadata": {
  "kernelspec": {
   "display_name": "Python 3",
   "language": "python",
   "name": "python3"
  },
  "language_info": {
   "codemirror_mode": {
    "name": "ipython",
    "version": 3
   },
   "file_extension": ".py",
   "mimetype": "text/x-python",
   "name": "python",
   "nbconvert_exporter": "python",
   "pygments_lexer": "ipython3",
   "version": "3.7.4"
  }
 },
 "nbformat": 4,
 "nbformat_minor": 2
}
