{
 "cells": [
  {
   "cell_type": "code",
   "execution_count": 1,
   "metadata": {},
   "outputs": [
    {
     "name": "stdout",
     "output_type": "stream",
     "text": [
      "1 Physical GPUs, 1 Logical GPUs\n"
     ]
    }
   ],
   "source": [
    "from __future__ import print_function \n",
    "\n",
    "#%load_ext autoreload\n",
    "#%autoreload 2\n",
    "\n",
    "from matplotlib import pyplot as plt\n",
    "%matplotlib inline\n",
    "\n",
    "import os, sys\n",
    "import numpy as np\n",
    "import time\n",
    "\n",
    "import tensorflow as tf\n",
    "\n",
    "from sklearn.model_selection import train_test_split\n",
    "from tensorflow.python.keras.layers import deserialize, serialize\n",
    "from tensorflow.python.keras.saving import saving_utils\n",
    "\n",
    "# Project imports \n",
    "from data import mnist,mnist_m\n",
    "from data.tasks import *\n",
    "from data.label_shift import label_shift_linear, plot_labeldist, plot_splitbars\n",
    "from experiments.models import *\n",
    "from experiments.training import *\n",
    "from util.kl import *\n",
    "from util.misc import *\n",
    "\n",
    "# Hyper-parameters\n",
    "#batch_size = 128\n",
    "\n",
    "gpus = tf.config.experimental.list_physical_devices('GPU')\n",
    "if gpus:\n",
    "  # Restrict TensorFlow to only allocate 1*X GB of memory on the first GPU\n",
    "  try:\n",
    "    tf.config.experimental.set_virtual_device_configuration(\n",
    "        gpus[0],\n",
    "        [tf.config.experimental.VirtualDeviceConfiguration(memory_limit=(1024*4))])\n",
    "    logical_gpus = tf.config.experimental.list_logical_devices('GPU')\n",
    "    print(len(gpus), \"Physical GPUs,\", len(logical_gpus), \"Logical GPUs\")\n",
    "  except RuntimeError as e:\n",
    "    # Virtual devices must be set before GPUs have been initialized\n",
    "    print(e)\n",
    "    \n",
    "#img_rows, img_cols = 32, 32\n",
    "#project_folder = \"/cephyr/users/adambre/Alvis/\"\n",
    "\n",
    "# # check output_dir, create it if not exists\n",
    "#     if not os.path.isdir(output_dir):\n",
    "#         os.makedirs(output_dir)"
   ]
  },
  {
   "cell_type": "markdown",
   "metadata": {},
   "source": [
    "# Load data & Train"
   ]
  },
  {
   "cell_type": "code",
   "execution_count": 3,
   "metadata": {},
   "outputs": [
    {
     "name": "stdout",
     "output_type": "stream",
     "text": [
      "mean, variance 0.36348352 70.18035\n",
      "---------------Load MNIST----------------\n",
      "Training set (60000, 32, 32, 3) (60000, 10)\n",
      "Test set (10000, 32, 32, 3) (10000, 10)\n",
      "\n",
      "\n",
      "mean, variance 0.5223306 60.093555\n",
      "---------------Load USPS----------------\n",
      "Training set (7438, 32, 32, 3) (7438, 10)\n",
      "Test set (1860, 32, 32, 3) (1860, 10)\n",
      "\n",
      "\n",
      "70000\n",
      "9298\n",
      "Train on 70000 samples, validate on 70000 samples\n",
      "70000/70000 [==============================] - 6s 81us/sample - loss: 0.1781 - accuracy: 0.9237 - val_loss: 0.0587 - val_accuracy: 0.9793\n",
      "----------------------------------------\n",
      "Finished training first posterior epoch\n",
      "\n",
      "Epoch 00001: saving model to /cephyr/users/adambre/Alvis/mnist_transfer/posteriors/task4/Binary/lenet/10_0/2_1.ckpt\n",
      "\n",
      "Epoch 00002: saving model to /cephyr/users/adambre/Alvis/mnist_transfer/posteriors/task4/Binary/lenet/10_0/2_2.ckpt\n",
      "\n",
      "Epoch 00003: saving model to /cephyr/users/adambre/Alvis/mnist_transfer/posteriors/task4/Binary/lenet/10_0/2_3.ckpt\n",
      "\n",
      "Epoch 00004: saving model to /cephyr/users/adambre/Alvis/mnist_transfer/posteriors/task4/Binary/lenet/10_0/2_4.ckpt\n",
      "\n",
      " !!! training error threshold reached, no further training !!!\n",
      "----------------------------------------\n",
      "Finished training posterior\n"
     ]
    }
   ],
   "source": [
    "#alphas=[0.1,0.2,0.3,0.4,0.5,0.6,0.7,0.8,0.9]\n",
    "alphas=[0]#,0.2,0.3,0.4,0.5,0.6,0.7,0.8,0.9]#,0.3,0.5,0.7,0.9]\n",
    "epsilons=[0.01]#,0.01,0.001]\n",
    "architectures=[\"lenet\"]\n",
    "tasks=[4]\n",
    "for t in tasks:\n",
    "    x_source,y_source,x_target,y_target=load_task(t)\n",
    "    print(len(y_source))\n",
    "    print(len(y_target))\n",
    "    for arch in architectures:\n",
    "        for alpha in alphas:\n",
    "            if alpha==0:\n",
    "                pass\n",
    "            else:\n",
    "                print(\"Alpha is:\"+str(alpha))\n",
    "                x_bound, x_prior, y_bound , y_prior = train_test_split(x_source,y_source,test_size=alpha,random_state=69105)\n",
    "                w_a=train_prior(alpha,1,x_prior,y_prior,x_target=x_target,y_target=y_target,save=True,task=t,binary=True,batch_size=128,architecture=arch)\n",
    "            for epsilon in epsilons:\n",
    "                w_s=train_posterior(alpha,x_source,y_source,None,x_test=x_source,y_test=y_source,save=True,epsilon=epsilon,task=t,binary=True,batch_size=128,architecture=arch)"
   ]
  }
 ],
 "metadata": {
  "kernelspec": {
   "display_name": "Python 3",
   "language": "python",
   "name": "python3"
  },
  "language_info": {
   "codemirror_mode": {
    "name": "ipython",
    "version": 3
   },
   "file_extension": ".py",
   "mimetype": "text/x-python",
   "name": "python",
   "nbconvert_exporter": "python",
   "pygments_lexer": "ipython3",
   "version": "3.7.4"
  }
 },
 "nbformat": 4,
 "nbformat_minor": 2
}
