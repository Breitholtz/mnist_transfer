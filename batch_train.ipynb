{
 "cells": [
  {
   "cell_type": "code",
   "execution_count": null,
   "metadata": {},
   "outputs": [],
   "source": [
    "from __future__ import print_function \n",
    "\n",
    "%load_ext autoreload\n",
    "%autoreload 2\n",
    "\n",
    "from matplotlib import pyplot as plt\n",
    "%matplotlib inline\n",
    "\n",
    "import os, sys\n",
    "import numpy as np\n",
    "import time\n",
    "\n",
    "import tensorflow as tf\n",
    "from tensorflow.keras import backend as K\n",
    "\n",
    "import pandas as pd\n",
    "import pickle\n",
    "import gc, re, copy\n",
    "from sklearn.model_selection import train_test_split\n",
    "from tensorflow.python.keras.layers import deserialize, serialize\n",
    "from tensorflow.python.keras.saving import saving_utils\n",
    "\n",
    "# Project imports \n",
    "from data import mnist_m as mnistm\n",
    "from data import mnist\n",
    "from data.label_shift import label_shift_linear, plot_labeldist, plot_splitbars\n",
    "from data.tasks import load_task\n",
    "from experiments.training import *\n",
    "from util.misc import *\n",
    "from util.batch import *\n",
    "\n",
    "# Hyper-parameters\n",
    "task = 4\n",
    "seed = 69105\n",
    "delta=0.05    \n",
    "binary=True\n",
    "architecture=\"lenet\"\n",
    "epsilons=[0.01]\n",
    "alphas=[0.3]\n",
    "\n",
    "project_folder = \"/cephyr/users/adambre/Alvis/mnist_transfer/\"\n",
    "#project_folder=\"/cephyr/NOBACKUP/groups/snic2021-23-538/mnist_transfer/\""
   ]
  },
  {
   "cell_type": "code",
   "execution_count": null,
   "metadata": {},
   "outputs": [],
   "source": [
    "project = 'SNIC2021-7-83'\n",
    "username = 'adambre'\n",
    "job = 'batch_train_single.sbatch'"
   ]
  },
  {
   "cell_type": "code",
   "execution_count": null,
   "metadata": {},
   "outputs": [],
   "source": [
    "print('Iterating over experiments...\\n')\n",
    "fids = []\n",
    "\n",
    "os.makedirs(project_folder+'logs', exist_ok=True)\n",
    "\n",
    "\n",
    "np.random.seed(seed)\n",
    "# for s in range(10):\n",
    "#     seed+=1\n",
    "#     print(seed)\n",
    "for alpha in alphas:\n",
    "    print(\"alpha:\"+str(alpha))\n",
    "    for epsilon in epsilons:\n",
    "        print(\"  epsilon:\"+str(epsilon)) \n",
    "        fid = project_folder+'logs/batch_t-%d_r-%d_a-%.4f_e-%.4f_d-%.4f_b-%d_A-%s' % \\\n",
    "            (task, seed, alpha, epsilon, delta, binary ,architecture)\n",
    "\n",
    "        exp = 'task=%d,seed=%d,alpha=%.4f,epsilon=%.4f,delta=%.4f,'% (task, seed, alpha, epsilon, delta)\\\n",
    "                +'binary=%d,architecture=%s' % (binary, architecture)\n",
    "        \n",
    "        output = !sbatch -o \"$fid\"-%j.out -e \"$fid\"-%j.err -A $project --export=\"$exp\" $job\n",
    "\n",
    "        jobid = int(output[0].split(' ')[-1])\n",
    "        fid = fid+'-%s' % jobid\n",
    "\n",
    "        fids.append(fid)"
   ]
  },
  {
   "cell_type": "code",
   "execution_count": null,
   "metadata": {},
   "outputs": [],
   "source": [
    "!squeue -u $username\n",
    "\n"
   ]
  },
  {
   "cell_type": "code",
   "execution_count": null,
   "metadata": {},
   "outputs": [],
   "source": [
    "for fid in fids: \n",
    "    print('------')\n",
    "    print(fid)\n",
    "    !tail -n 10 \"$fid\".out\n",
    "    print('\\n------')\n",
    "    !tail -n 5 \"$fid\".err\n",
    "    print(' \\n\\n')"
   ]
  }
 ],
 "metadata": {
  "kernelspec": {
   "display_name": "Python 3",
   "language": "python",
   "name": "python3"
  },
  "language_info": {
   "codemirror_mode": {
    "name": "ipython",
    "version": 3
   },
   "file_extension": ".py",
   "mimetype": "text/x-python",
   "name": "python",
   "nbconvert_exporter": "python",
   "pygments_lexer": "ipython3",
   "version": "3.7.4"
  }
 },
 "nbformat": 4,
 "nbformat_minor": 2
}
