{
 "cells": [
  {
   "cell_type": "code",
   "execution_count": 10,
   "metadata": {},
   "outputs": [
    {
     "name": "stdout",
     "output_type": "stream",
     "text": [
      "The autoreload extension is already loaded. To reload it, use:\n",
      "  %reload_ext autoreload\n"
     ]
    }
   ],
   "source": [
    "from __future__ import print_function \n",
    "\n",
    "%load_ext autoreload\n",
    "%autoreload 2\n",
    "\n",
    "from matplotlib import pyplot as plt\n",
    "%matplotlib inline\n",
    "\n",
    "import os, sys\n",
    "import numpy as np\n",
    "import time\n",
    "\n",
    "import tensorflow as tf\n",
    "from tensorflow.keras import backend as K\n",
    "\n",
    "import pandas as pd\n",
    "import pickle\n",
    "import gc, re, copy\n",
    "from sklearn.model_selection import train_test_split\n",
    "from tensorflow.python.keras.layers import deserialize, serialize\n",
    "from tensorflow.python.keras.saving import saving_utils\n",
    "\n",
    "# Project imports \n",
    "from data import mnist_m as mnistm\n",
    "from data import mnist\n",
    "from data.label_shift import label_shift_linear, plot_labeldist, plot_splitbars\n",
    "from data.tasks import load_task\n",
    "from experiments.training import *\n",
    "from util.misc import *\n",
    "from util.batch import *\n",
    "\n",
    "# Hyper-parameters\n",
    "task = 7\n",
    "batch_size=32\n",
    "seeds = [1]#[1,2,3,4,5,6,7,8,9]\n",
    "delta=0.05    \n",
    "binary=True\n",
    "architecture=\"resnet\"\n",
    "#epsilons=[0.1]\n",
    "alphas=[0.3]#[0,0.1,0.2,0.3,0.4,0.5,0.6,0.7,0.8,0.9]\n",
    "image_size=64\n",
    "#project_folder = \"/cephyr/users/adambre/Alvis/mnist_transfer/\"\n",
    "project_folder=\"/cephyr/NOBACKUP/groups/snic2021-23-538/mnist_transfer/\""
   ]
  },
  {
   "cell_type": "code",
   "execution_count": 11,
   "metadata": {},
   "outputs": [],
   "source": [
    "project = 'SNIC2021-7-83'\n",
    "username = 'adambre'\n",
    "job = 'batch_train_single.sbatch'"
   ]
  },
  {
   "cell_type": "code",
   "execution_count": 12,
   "metadata": {},
   "outputs": [
    {
     "name": "stdout",
     "output_type": "stream",
     "text": [
      "Iterating over experiments...\n",
      "\n",
      "alpha:0.3\n"
     ]
    }
   ],
   "source": [
    "print('Iterating over experiments...\\n')\n",
    "fids = []\n",
    "\n",
    "os.makedirs(project_folder+'logs', exist_ok=True)\n",
    "\n",
    "\n",
    "\n",
    "# for s in range(10):\n",
    "#     seed+=1\n",
    "#     print(seed)\n",
    "for seed in seeds:\n",
    "    np.random.seed(seed)\n",
    "    for alpha in alphas:\n",
    "        print(\"alpha:\"+str(alpha))\n",
    "        fid = project_folder+'logs/batch_t-%d_r-%d_a-%.4f_d-%.4f_b-%d_A-%s_I-%d_B-%d' % \\\n",
    "            (task, seed, alpha, delta, binary ,architecture,image_size, batch_size)\n",
    "\n",
    "        exp = 'task=%d,seed=%d,alpha=%.4f,delta=%.4f,'% (task, seed, alpha, delta)\\\n",
    "                +'binary=%d,architecture=%s,image_size=%d,batch_size=%d' % (binary, architecture,image_size, batch_size)\n",
    "\n",
    "        output = !sbatch -o \"$fid\"-%j.out -e \"$fid\"-%j.err -A $project --export=\"$exp\" $job\n",
    "\n",
    "        jobid = int(output[0].split(' ')[-1])\n",
    "        fid = fid+'-%s' % jobid\n",
    "\n",
    "        fids.append(fid)"
   ]
  },
  {
   "cell_type": "code",
   "execution_count": 23,
   "metadata": {},
   "outputs": [
    {
     "name": "stdout",
     "output_type": "stream",
     "text": [
      "             JOBID PARTITION     NAME     USER ST       TIME  NODES NODELIST(REASON)\r\n",
      "          436844_1     alvis paramete  adambre  R       3:12      1 alvis2-01\r\n",
      "          436844_2     alvis paramete  adambre  R       3:12      1 alvis2-05\r\n",
      "          436844_3     alvis paramete  adambre  R       3:12      1 alvis2-05\r\n",
      "          436844_4     alvis paramete  adambre  R       3:12      1 alvis2-06\r\n",
      "          436844_5     alvis paramete  adambre  R       3:12      1 alvis2-06\r\n",
      "          436844_6     alvis paramete  adambre  R       3:12      1 alvis2-06\r\n",
      "          436844_7     alvis paramete  adambre  R       3:12      1 alvis2-06\r\n",
      "          436844_8     alvis paramete  adambre  R       3:12      1 alvis2-06\r\n",
      "          436844_9     alvis paramete  adambre  R       3:12      1 alvis2-06\r\n",
      "         436844_10     alvis paramete  adambre  R       3:12      1 alvis2-06\r\n",
      "         436844_11     alvis paramete  adambre  R       3:12      1 alvis2-06\r\n",
      "         436844_12     alvis paramete  adambre  R       3:12      1 alvis2-07\r\n",
      "         436844_13     alvis paramete  adambre  R       3:12      1 alvis2-07\r\n",
      "         436844_14     alvis paramete  adambre  R       3:12      1 alvis2-07\r\n",
      "         436844_15     alvis paramete  adambre  R       3:12      1 alvis2-07\r\n",
      "         436844_16     alvis paramete  adambre  R       3:12      1 alvis2-07\r\n",
      "         436844_17     alvis paramete  adambre  R       3:12      1 alvis2-07\r\n",
      "         436844_18     alvis paramete  adambre  R       3:12      1 alvis2-07\r\n",
      "         436844_19     alvis paramete  adambre  R       3:12      1 alvis2-07\r\n",
      "         436844_20     alvis paramete  adambre  R       3:12      1 alvis2-08\r\n",
      "         436844_21     alvis paramete  adambre  R       3:12      1 alvis2-08\r\n",
      "         436844_22     alvis paramete  adambre  R       3:12      1 alvis2-08\r\n",
      "         436844_23     alvis paramete  adambre  R       3:12      1 alvis2-08\r\n",
      "         436844_24     alvis paramete  adambre  R       3:12      1 alvis2-08\r\n",
      "         436844_25     alvis paramete  adambre  R       3:12      1 alvis2-08\r\n",
      "         436844_26     alvis paramete  adambre  R       3:12      1 alvis2-08\r\n",
      "         436844_27     alvis paramete  adambre  R       3:12      1 alvis2-08\r\n",
      "         436844_28     alvis paramete  adambre  R       3:12      1 alvis2-09\r\n",
      "         436844_29     alvis paramete  adambre  R       3:12      1 alvis2-09\r\n",
      "         436844_30     alvis paramete  adambre  R       3:12      1 alvis2-09\r\n",
      "         436844_31     alvis paramete  adambre  R       3:12      1 alvis2-09\r\n",
      "          436812_1     alvis paramete  adambre  R       6:50      1 alvis2-02\r\n",
      "          436812_2     alvis paramete  adambre  R       6:50      1 alvis2-02\r\n",
      "          436812_3     alvis paramete  adambre  R       6:50      1 alvis2-02\r\n",
      "          436812_4     alvis paramete  adambre  R       6:50      1 alvis2-02\r\n",
      "          436812_5     alvis paramete  adambre  R       6:50      1 alvis2-02\r\n",
      "          436812_6     alvis paramete  adambre  R       6:50      1 alvis2-02\r\n",
      "          436812_7     alvis paramete  adambre  R       6:50      1 alvis2-02\r\n",
      "          436812_8     alvis paramete  adambre  R       6:50      1 alvis2-03\r\n",
      "          436812_9     alvis paramete  adambre  R       6:50      1 alvis2-03\r\n",
      "         436812_10     alvis paramete  adambre  R       6:50      1 alvis2-03\r\n",
      "         436812_11     alvis paramete  adambre  R       6:50      1 alvis2-03\r\n",
      "         436812_12     alvis paramete  adambre  R       6:50      1 alvis2-03\r\n",
      "         436812_13     alvis paramete  adambre  R       6:50      1 alvis2-03\r\n",
      "         436812_14     alvis paramete  adambre  R       6:50      1 alvis2-03\r\n",
      "         436812_15     alvis paramete  adambre  R       6:50      1 alvis2-03\r\n",
      "         436812_16     alvis paramete  adambre  R       6:50      1 alvis2-04\r\n",
      "         436812_17     alvis paramete  adambre  R       6:50      1 alvis2-04\r\n",
      "         436812_18     alvis paramete  adambre  R       6:50      1 alvis2-04\r\n",
      "         436812_19     alvis paramete  adambre  R       6:50      1 alvis2-04\r\n",
      "         436812_20     alvis paramete  adambre  R       6:50      1 alvis2-04\r\n",
      "         436812_21     alvis paramete  adambre  R       6:50      1 alvis2-04\r\n",
      "         436812_22     alvis paramete  adambre  R       6:50      1 alvis2-04\r\n",
      "         436812_23     alvis paramete  adambre  R       6:50      1 alvis2-04\r\n",
      "         436812_24     alvis paramete  adambre  R       6:50      1 alvis2-05\r\n",
      "         436812_25     alvis paramete  adambre  R       6:50      1 alvis2-05\r\n",
      "         436812_26     alvis paramete  adambre  R       6:50      1 alvis2-05\r\n",
      "         436812_27     alvis paramete  adambre  R       6:50      1 alvis2-05\r\n",
      "         436812_28     alvis paramete  adambre  R       6:50      1 alvis2-05\r\n",
      "         436812_29     alvis paramete  adambre  R       6:50      1 alvis2-05\r\n",
      "            435145     alvis     bash  adambre  R 4-06:15:25      1 alvis2-01\r\n"
     ]
    }
   ],
   "source": [
    "!squeue -u $username\n",
    "\n",
    "#!squeue -u adambre | awk '{if ($1!=JOBID && $1!=373627) {print $1}}' | tail -n +2 |xargs scancel"
   ]
  },
  {
   "cell_type": "code",
   "execution_count": 18,
   "metadata": {},
   "outputs": [
    {
     "name": "stdout",
     "output_type": "stream",
     "text": [
      "------\n",
      "/cephyr/NOBACKUP/groups/snic2021-23-538/mnist_transfer/logs/batch_t-7_r-1_a-0.3000_d-0.0500_b-1_A-resnet_I-64_B-32-436730\n",
      "tail: cannot open '/cephyr/NOBACKUP/groups/snic2021-23-538/mnist_transfer/logs/batch_t-7_r-1_a-0.3000_d-0.0500_b-1_A-resnet_I-64_B-32-436730.out' for reading: No such file or directory\n",
      "\n",
      "------\n",
      "tail: cannot open '/cephyr/NOBACKUP/groups/snic2021-23-538/mnist_transfer/logs/batch_t-7_r-1_a-0.3000_d-0.0500_b-1_A-resnet_I-64_B-32-436730.err' for reading: No such file or directory\n",
      " \n",
      "\n",
      "\n"
     ]
    }
   ],
   "source": [
    "for fid in fids: \n",
    "    print('------')\n",
    "    print(fid)\n",
    "    !tail -n 10 \"$fid\".out\n",
    "    print('\\n------')\n",
    "    !tail -n 5 \"$fid\".err\n",
    "    print(' \\n\\n')"
   ]
  }
 ],
 "metadata": {
  "kernelspec": {
   "display_name": "Python 3",
   "language": "python",
   "name": "python3"
  },
  "language_info": {
   "codemirror_mode": {
    "name": "ipython",
    "version": 3
   },
   "file_extension": ".py",
   "mimetype": "text/x-python",
   "name": "python",
   "nbconvert_exporter": "python",
   "pygments_lexer": "ipython3",
   "version": "3.8.6"
  }
 },
 "nbformat": 4,
 "nbformat_minor": 2
}
