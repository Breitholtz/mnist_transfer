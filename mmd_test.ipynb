{
 "cells": [
  {
   "cell_type": "code",
   "execution_count": 2,
   "metadata": {},
   "outputs": [],
   "source": [
    "import numpy as np\n",
    "import random\n",
    "import matplotlib.pyplot as plt\n",
    "\n",
    "#%load_ext autoreload\n",
    "#%autoreload 2\n",
    "\n",
    "%matplotlib inline\n"
   ]
  },
  {
   "cell_type": "code",
   "execution_count": 3,
   "metadata": {
    "scrolled": true
   },
   "outputs": [
    {
     "name": "stdout",
     "output_type": "stream",
     "text": [
      "(223648, 32, 32, 3)\n",
      "(223648, 3072)\n"
     ]
    },
    {
     "data": {
      "image/png": "[encoded data removed]",
      "text/plain": [
       "<Figure size 432x288 with 1 Axes>"
      ]
     },
     "metadata": {
      "needs_background": "light"
     },
     "output_type": "display_data"
    },
    {
     "name": "stdout",
     "output_type": "stream",
     "text": [
      "1.4142135\n"
     ]
    }
   ],
   "source": [
    "np.random.seed(0)\n",
    "\n",
    "def rbf_kernel(x, y, s=0.5):\n",
    "    \"\"\" Vectorized Gaussian RBF kernel \"\"\"\n",
    "    return np.exp(-((x-y)*(x-y)).sum(axis=1)/(2*s*s))\n",
    "\n",
    "def mmd_h_(x0, x1, y0, y1, s=0.5):\n",
    "    \"\"\" Implements the one-sample U-statistic from Lemma 6 in A kernel two-sample test\"\"\"\n",
    "    return rbf_kernel(x0, x1, s) + rbf_kernel(y0, y1, s) - rbf_kernel(x0, y1, s) - rbf_kernel(x1, y0, s)\n",
    "\n",
    "def mmd_lin(x, y, s=0.5):\n",
    "    \"\"\" Linear MMD test statistic \"\"\"\n",
    "    N1=x.shape[0]\n",
    "    N2=y.shape[0]\n",
    "    if N1==N2:\n",
    "        #carry on\n",
    "        n = N1\n",
    "        n2 = int(n/2)\n",
    "        x0 = x[:n2,]\n",
    "        x1 = x[n2:(2*n2),]\n",
    "        y0 = y[:n2,]\n",
    "        y1 = y[n2:(2*n2),]\n",
    "    elif N1>N2:\n",
    "        # take N2 \n",
    "        n = N2\n",
    "        n2 = int(n/2)\n",
    "        x0 = x[:n2,]\n",
    "        x1 = x[n2:(2*n2),]\n",
    "        y0 = y[:n2,]\n",
    "        y1 = y[n2:(2*n2),]\n",
    "    else:\n",
    "        # take N1\n",
    "        n = N1\n",
    "        n2 = int(n/2)\n",
    "        x0 = x[:n2,]\n",
    "        x1 = x[n2:(2*n2),]\n",
    "        y0 = y[:n2,]\n",
    "        y1 = y[n2:(2*n2),]\n",
    "        \n",
    "    \n",
    "    return mmd_h_(x0, x1, y0, y1, s).mean()\n",
    "\n",
    "from data.tasks import *\n",
    "x_source,_,x_target,_=load_task(6)\n",
    "\n",
    "\n",
    "def flatten_images(x):\n",
    "    N=len(x)\n",
    "    return x.reshape(N,-1)\n",
    "print(x_source.shape)\n",
    "x_source=flatten_images(x_source)\n",
    "x_target=flatten_images(x_target)\n",
    "print(x_source.shape)\n",
    "ms = []\n",
    "#n = 5000\n",
    "N = 10#0000\n",
    "result=[]\n",
    "sigmas=[1e-4,1e-3,1e-2,1e-1,1,1e2,1e3,1e4]\n",
    "for sigma in sigmas:\n",
    "    ms=[]\n",
    "    for i in range(N):\n",
    "        ## proxy for randomly selecting datapoints in the mmd linear function\n",
    "        random.shuffle(x_source)\n",
    "        random.shuffle(x_target)\n",
    "        ms.append(mmd_lin(x_source, x_target, sigma))\n",
    "    result.append(np.mean(ms))\n",
    "    \n",
    "    \n",
    "#plt.hist(ms, bins=20)\n",
    "plt.semilogx(sigmas,result)\n",
    "plt.show()\n",
    "\n",
    "print(np.sqrt(np.max(result)))"
   ]
  },
  {
   "cell_type": "code",
   "execution_count": null,
   "metadata": {},
   "outputs": [],
   "source": []
  },
  {
   "cell_type": "code",
   "execution_count": null,
   "metadata": {},
   "outputs": [],
   "source": []
  }
 ],
 "metadata": {
  "kernelspec": {
   "display_name": "Python 3",
   "language": "python",
   "name": "python3"
  },
  "language_info": {
   "codemirror_mode": {
    "name": "ipython",
    "version": 3
   },
   "file_extension": ".py",
   "mimetype": "text/x-python",
   "name": "python",
   "nbconvert_exporter": "python",
   "pygments_lexer": "ipython3",
   "version": "3.7.4"
  }
 },
 "nbformat": 4,
 "nbformat_minor": 5
}
