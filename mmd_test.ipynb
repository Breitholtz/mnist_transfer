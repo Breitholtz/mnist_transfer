{
 "cells": [
  {
   "cell_type": "code",
   "execution_count": 1,
   "id": "relevant-david",
   "metadata": {},
   "outputs": [],
   "source": [
    "import numpy as np\n",
    "import matplotlib.pyplot as plt"
   ]
  },
  {
   "cell_type": "code",
   "execution_count": 2,
   "id": "dated-danger",
   "metadata": {
    "scrolled": false
   },
   "outputs": [
    {
     "data": {
      "image/png": "[encoded data removed]",
      "text/plain": [
       "<Figure size 432x288 with 1 Axes>"
      ]
     },
     "metadata": {
      "needs_background": "light"
     },
     "output_type": "display_data"
    },
    {
     "name": "stdout",
     "output_type": "stream",
     "text": [
      "0.1189598933205179\n"
     ]
    }
   ],
   "source": [
    "np.random.seed(0)\n",
    "\n",
    "def rbf_kernel(x, y, s=0.5):\n",
    "    \"\"\" Vectorized Gaussian RBF kernel \"\"\"\n",
    "    return np.exp(-((x-y)*(x-y)).sum(axis=1)/(2*s*s))\n",
    "\n",
    "def mmd_h_(x0, x1, y0, y1, s=0.5):\n",
    "    \"\"\" Implements the one-sample U-statistic from Lemma 6 in A kernel two-sample test\"\"\"\n",
    "    return rbf_kernel(x0, x1, s) + rbf_kernel(y0, y1, s) - rbf_kernel(x0, y1, s) - rbf_kernel(x1, y0, s)\n",
    "\n",
    "def mmd_lin(x, y, s=0.5):\n",
    "    \"\"\" Lienar MMD test statistic \"\"\"\n",
    "    n = x.shape[0]\n",
    "    n2 = int(n/2)\n",
    "    x0 = x[:n2,]\n",
    "    x1 = x[n2:(2*n2),]\n",
    "    y0 = y[:n2,]\n",
    "    y1 = y[n2:(2*n2),]\n",
    "    \n",
    "    return mmd_h_(x0, x1, y0, y1, s).mean()\n",
    "\n",
    "\n",
    "ms = []\n",
    "n = 5000\n",
    "N = 10000\n",
    "for i in range(N):\n",
    "    x = np.random.normal(0,1, (n,1)) #np.random.randn(n,1)\n",
    "    #y = np.random.normal(0,3*np.sqrt(2), (n,1)) #np.random.randn(n,1)\n",
    "    y = np.random.laplace(0,3, (n,1))\n",
    "    #y = np.random.laplace(0,1/np.sqrt(2), (n,1))\n",
    "    ms.append(mmd_lin(x, y))\n",
    "    \n",
    "    \n",
    "plt.hist(ms, bins=20)\n",
    "plt.show()\n",
    "\n",
    "print(np.mean(ms))"
   ]
  },
  {
   "cell_type": "code",
   "execution_count": null,
   "id": "polished-somewhere",
   "metadata": {},
   "outputs": [],
   "source": []
  }
 ],
 "metadata": {
  "kernelspec": {
   "display_name": "Python 3",
   "language": "python",
   "name": "python3"
  },
  "language_info": {
   "codemirror_mode": {
    "name": "ipython",
    "version": 3
   },
   "file_extension": ".py",
   "mimetype": "text/x-python",
   "name": "python",
   "nbconvert_exporter": "python",
   "pygments_lexer": "ipython3",
   "version": "3.9.0"
  }
 },
 "nbformat": 4,
 "nbformat_minor": 5
}
