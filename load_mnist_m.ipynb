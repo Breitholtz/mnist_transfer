{
 "cells": [
  {
   "cell_type": "code",
   "execution_count": 8,
   "metadata": {},
   "outputs": [
    {
     "name": "stdout",
     "output_type": "stream",
     "text": [
      "(9001, 10)\n",
      "(59001, 10)\n"
     ]
    },
    {
     "data": {
      "text/plain": [
       "\"\\n## store mnist-m in h5 file\\n# Create file\\nh5f = h5py.File('MNIST-M.h5', 'w')\\n\\n# Store the datasets\\nh5f.create_dataset('x_train', data=x_train_m)\\nh5f.create_dataset('y_train', data=y_train_m)\\nh5f.create_dataset('x_test', data=x_test_m)\\nh5f.create_dataset('y_test', data=y_test_m)\\n\\n\\n# Close the file\\nh5f.close()    \\n\""
      ]
     },
     "execution_count": 8,
     "metadata": {},
     "output_type": "execute_result"
    }
   ],
   "source": [
    "########## import mnist-m\n",
    "from keras.preprocessing.image import load_img,img_to_array\n",
    "import sys\n",
    "import os\n",
    "import numpy as np\n",
    "import keras\n",
    "mnistm_path=\"../Datasets/mnist_m\"\n",
    "\n",
    "num_classes=10\n",
    "x_train_m=[]\n",
    "x_test_m=[]\n",
    "path=os.path.join(mnistm_path,\"mnist_m_train\")\n",
    "i=0\n",
    "filelist=np.sort(os.listdir(path))\n",
    "x_train_m = np.array([np.array(load_img(os.path.join(path,fname))) for fname in filelist])\n",
    "#print(x_train_m.shape)\n",
    "\n",
    "   \n",
    "path=os.path.join(mnistm_path,\"mnist_m_test\")\n",
    "filelist=np.sort(os.listdir(path))\n",
    "x_test_m = np.array([np.array(load_img(os.path.join(path,fname))) for fname in filelist])\n",
    "    \n",
    "#print(x_train_m)\n",
    "#print(x_test_m)    \n",
    "mnistm_path=\"../Datasets/mnist_m\"\n",
    "y_train_m=[]\n",
    "y_test_m=[]\n",
    "\n",
    "f = open(os.path.join(mnistm_path,'mnist_m_train_labels.txt'), 'r+')\n",
    "y_train_m = [line for line in f.readlines()]\n",
    "f.close()\n",
    "\n",
    "f = open(os.path.join(mnistm_path,'mnist_m_test_labels.txt'), 'r+')\n",
    "y_test_m = [line for line in f.readlines()]\n",
    "f.close()\n",
    "\n",
    "for i in range(len(y_train_m)):\n",
    "    y_train_m[i]=int(y_train_m[i][-2])\n",
    "#print(y_train_m)\n",
    "for i in range(len(y_test_m)):\n",
    "    y_test_m[i]=int(y_test_m[i][-2])\n",
    "#print(y_test)\n",
    "y_train_m=keras.utils.to_categorical(y_train_m,num_classes)\n",
    "y_test_m=keras.utils.to_categorical(y_test_m,num_classes)\n",
    "\n",
    "print(y_test_m.shape)\n",
    "\n",
    "print(y_train_m.shape)\n",
    "'''\n",
    "## store mnist-m in h5 file\n",
    "# Create file\n",
    "h5f = h5py.File('MNIST-M.h5', 'w')\n",
    "\n",
    "# Store the datasets\n",
    "h5f.create_dataset('x_train', data=x_train_m)\n",
    "h5f.create_dataset('y_train', data=y_train_m)\n",
    "h5f.create_dataset('x_test', data=x_test_m)\n",
    "h5f.create_dataset('y_test', data=y_test_m)\n",
    "\n",
    "\n",
    "# Close the file\n",
    "h5f.close()    \n",
    "'''"
   ]
  }
 ],
 "metadata": {
  "kernelspec": {
   "display_name": "Python 3",
   "language": "python",
   "name": "python3"
  },
  "language_info": {
   "codemirror_mode": {
    "name": "ipython",
    "version": 3
   },
   "file_extension": ".py",
   "mimetype": "text/x-python",
   "name": "python",
   "nbconvert_exporter": "python",
   "pygments_lexer": "ipython3",
   "version": "3.9.2"
  }
 },
 "nbformat": 4,
 "nbformat_minor": 4
}
