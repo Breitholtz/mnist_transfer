{
 "cells": [
  {
   "cell_type": "code",
   "execution_count": null,
   "metadata": {},
   "outputs": [],
   "source": [
    "from __future__ import print_function \n",
    "\n",
    "%load_ext autoreload\n",
    "%autoreload 2\n",
    "\n",
    "from matplotlib import pyplot as plt\n",
    "%matplotlib inline\n",
    "\n",
    "import os, sys\n",
    "import numpy as np\n",
    "import time\n",
    "\n",
    "import tensorflow as tf\n",
    "\n",
    "gpus = tf.config.experimental.list_physical_devices('GPU')\n",
    "if gpus:\n",
    "  # Restrict TensorFlow to only allocate 1*X GB of memory on the first GPU\n",
    "  try:\n",
    "    tf.config.experimental.set_virtual_device_configuration(\n",
    "        gpus[0],\n",
    "        [tf.config.experimental.VirtualDeviceConfiguration(memory_limit=(1024*4))])\n",
    "    logical_gpus = tf.config.experimental.list_logical_devices('GPU')\n",
    "    print(len(gpus), \"Physical GPUs,\", len(logical_gpus), \"Logical GPUs\")\n",
    "  except RuntimeError as e:\n",
    "    # Virtual devices must be set before GPUs have been initialized\n",
    "    print(e)\n",
    "\n",
    "\n",
    "\n",
    "import pandas as pd\n",
    "import pickle\n",
    "import gc, re, copy\n",
    "from sklearn.model_selection import train_test_split\n",
    "from tensorflow.python.keras.layers import deserialize, serialize\n",
    "from tensorflow.python.keras.saving import saving_utils\n",
    "\n",
    "# Project imports \n",
    "from data.tasks import *\n",
    "from data.label_shift import label_shift_linear, plot_labeldist, plot_splitbars\n",
    "from experiments.models import *\n",
    "from experiments.training import *\n",
    "from bounds.bounds import *\n",
    "from util.batch import *\n",
    "from util.kl import *\n",
    "from util.misc import *\n",
    "\n",
    "# Hyper-parameters\n",
    "batch_size = 128\n",
    " \n",
    "\n",
    "project_folder=\"/cephyr/users/adambre/Alvis/mnist_transfer/\"\n",
    "# project_folder=\"/cephyr/NOBACKUP/groups/snic2021-23-538/mnist_transfer/\""
   ]
  },
  {
   "cell_type": "markdown",
   "metadata": {},
   "source": [
    "# Load and structure data"
   ]
  },
  {
   "cell_type": "code",
   "execution_count": null,
   "metadata": {},
   "outputs": [],
   "source": [
    "task = 4\n",
    "x_source,y_source,x_target,y_target=load_task(task)"
   ]
  },
  {
   "cell_type": "markdown",
   "metadata": {},
   "source": [
    "# Run evaluation "
   ]
  },
  {
   "cell_type": "code",
   "execution_count": null,
   "metadata": {
    "scrolled": false
   },
   "outputs": [],
   "source": [
    "\n",
    "architecture=\"lenet\"\n",
    "delta=0.05\n",
    "binary=True\n",
    "epsilons=[0.01]\n",
    "alphas=[0]#0,0.3]\n",
    "sigmas=[[3,2]]\n",
    "seed=69105\n",
    "for alpha in alphas:\n",
    "    print(\"alpha:\"+str(alpha))\n",
    "    if alpha==0:\n",
    "        x_bound=x_source\n",
    "        y_bound=y_source\n",
    "    else:\n",
    "        x_bound, x_prior, y_bound , y_prior = train_test_split(x_source,y_source,test_size=alpha,random_state=seed)\n",
    "    for epsilon in epsilons:\n",
    "        print(\"epsilon:\"+str(epsilon))\n",
    "        for sigma in sigmas:    \n",
    "            print(\"sigma:\"+str(sigma))\n",
    "            paths=posterior_checkpoints(task, epsilon, alpha, binary=binary,architecture=\"lenet\")\n",
    "            for p in paths:\n",
    "                results=compute_bound_parts(task,p,x_bound,y_bound,x_target,y_target,alpha=alpha,sigma=sigma,epsilon=epsilon,binary=binary,architecture=architecture)\n",
    "                \n",
    "                checkpoint = results['checkpoint'].values.ravel()[0]\n",
    "\n",
    "                if binary:\n",
    "                    result_path=project_folder+\"results/\"+\"task\"+str(task)+\"/Binary/\"+str(architecture)+\"/\"+str(int(1000*epsilon))+\\\n",
    "                        \"_\"+str(int(100*alpha))+\"_\"+str(sigma[0])+str(sigma[1])+'_'+str(seed)+'_'+checkpoint+'_results.pkl'\n",
    "                else:\n",
    "                    result_path=project_folder+\"results/\"+\"task\"+str(task)+\"/\"+str(architecture)+\"/\"+str(int(1000*epsilon))+\"_\"+str(int(100*alpha))+\\\n",
    "                    \"_\"+str(sigma[0])+str(sigma[1])+'_'+str(seed)+'_'+checkpoint+'_results.pkl'\n",
    "\n",
    "                # Create dir\n",
    "                os.makedirs(os.path.dirname(result_path), exist_ok=True)\n",
    "                results.to_pickle(result_path)"
   ]
  }
 ],
 "metadata": {
  "kernelspec": {
   "display_name": "Python 3",
   "language": "python",
   "name": "python3"
  },
  "language_info": {
   "codemirror_mode": {
    "name": "ipython",
    "version": 3
   },
   "file_extension": ".py",
   "mimetype": "text/x-python",
   "name": "python",
   "nbconvert_exporter": "python",
   "pygments_lexer": "ipython3",
   "version": "3.7.4"
  }
 },
 "nbformat": 4,
 "nbformat_minor": 2
}
