{
 "cells": [
  {
   "cell_type": "code",
   "execution_count": null,
   "metadata": {},
   "outputs": [],
   "source": [
    "from __future__ import print_function \n",
    "\n",
    "%load_ext autoreload\n",
    "%autoreload 2\n",
    "\n",
    "from matplotlib import pyplot as plt\n",
    "%matplotlib inline\n",
    "\n",
    "import os, sys\n",
    "import numpy as np\n",
    "import time\n",
    "\n",
    "import tensorflow as tf\n",
    "from tensorflow.keras import backend as K\n",
    "\n",
    "import pandas as pd\n",
    "import pickle\n",
    "import gc, re, copy\n",
    "from sklearn.model_selection import train_test_split\n",
    "from tensorflow.python.keras.layers import deserialize, serialize\n",
    "from tensorflow.python.keras.saving import saving_utils\n",
    "\n",
    "# Project imports \n",
    "from data import mnist_m as mnistm\n",
    "from data import mnist\n",
    "from data.label_shift import label_shift_linear, plot_labeldist, plot_splitbars\n",
    "from data.tasks import load_task\n",
    "from experiments.training import *\n",
    "from experiments.SL_bound import *\n",
    "#from experiments.DA_bound import *\n",
    "from bounds.bounds import *\n",
    "from util.kl import *\n",
    "from util.misc import *\n",
    "from util.batch import *\n",
    "from results.plotting import *\n",
    "\n",
    "# Hyper-parameters\n",
    "task = 4\n",
    "seed = 69105\n",
    "n_classifiers = 2\n",
    "delta=0.05 ## what would this be?   \n",
    "binary=True\n",
    "bound='germain'\n",
    "architecture=\"lenet\"\n",
    "epsilons=[0.01]#,0.001]0.15,0.1,0.05\n",
    "#[0.1,0.2,0.3,0.4,0.5,0.6,0.7,0.8,0.9]\n",
    "# 0.6-0.9 left on chexpert\n",
    "alphas=[0.3]#,0.4,0.5,0.6,0.7,0.8,0.9],0.6,0.7,0.8,0.9\n",
    "sigmas=[[3,2]]#,[3,2],[3,3]\n",
    "\n",
    "project_folder2 = \"/cephyr/users/adambre/Alvis/\"\n",
    "project_folder=\"/cephyr/NOBACKUP/groups/snic2021-23-538/mnist_transfer/\""
   ]
  },
  {
   "cell_type": "markdown",
   "metadata": {},
   "source": [
    "# Alvis params"
   ]
  },
  {
   "cell_type": "code",
   "execution_count": null,
   "metadata": {},
   "outputs": [],
   "source": [
    "project = 'SNIC2021-7-83'\n",
    "username = 'adambre'\n",
    "job = 'batch_bound_single.sbatch'"
   ]
  },
  {
   "cell_type": "code",
   "execution_count": null,
   "metadata": {},
   "outputs": [],
   "source": [
    "!squeue -u $username"
   ]
  },
  {
   "cell_type": "code",
   "execution_count": null,
   "metadata": {},
   "outputs": [],
   "source": [
    "!cat $job"
   ]
  },
  {
   "cell_type": "code",
   "execution_count": null,
   "metadata": {
    "scrolled": false
   },
   "outputs": [],
   "source": [
    "print('Iterating over experiments...\\n')\n",
    "\n",
    "fids = []\n",
    "\n",
    "os.makedirs(project_folder+'logs', exist_ok=True)\n",
    "\n",
    "\n",
    "np.random.seed(seed)\n",
    "# for s in range(10):\n",
    "#     seed+=1\n",
    "#     print(seed)\n",
    "for alpha in alphas:\n",
    "\n",
    "    print(\"alpha:\"+str(alpha))\n",
    "\n",
    "    for epsilon in epsilons:\n",
    "        print(\"  epsilon:\"+str(epsilon))\n",
    "        for sigma in sigmas:    \n",
    "            print(\"    sigma:\"+str(sigma))\n",
    "            arg_list = get_job_args(task, bound=bound, alpha=alpha, sigma=sigma,\n",
    "                                    epsilon=epsilon, binary=binary, n_classifiers=n_classifiers,architecture=architecture)\n",
    "#             for a in arg_list:#[5:]:\n",
    "#                 ckpt = os.path.splitext(os.path.basename(a['posterior_path']))[0]\n",
    "#                 print(ckpt)\n",
    "            #sys.exit(-1)\n",
    "            for a in arg_list:#[5:]:   \n",
    "\n",
    "                ckpt = os.path.splitext(os.path.basename(a['posterior_path']))[0]\n",
    "                fid = project_folder+'logs/batch_t-%d_r-%d_a-%.4f_s-%d%d_e-%.4f_d-%.4f_b-%d_n-%d_B-%s_c-%s' % \\\n",
    "                    (task, seed, alpha, sigma[0], sigma[1], epsilon, delta, binary, n_classifiers, bound, ckpt)\n",
    "\n",
    "                sigstr = '\"%d.%d\"' % (sigma[0], sigma[1])\n",
    "                exp = 'task=%d,seed=%d,alpha=%.4f,sigma=\"%s\",epsilon=%.4f,delta=%.4f,'% (task, seed, alpha, sigstr, epsilon, delta)\\\n",
    "                        +'binary=%d,nclassifiers=%d,bound=%s,prior=%s,posterior=%s,architecture=%s' % (binary, n_classifiers, bound, a['prior_path'], a['posterior_path'],architecture)\n",
    "\n",
    "                prior_path = a['prior_path']\n",
    "                output = !sbatch -o \"$fid\"-%j.out -e \"$fid\"-%j.err -A $project --export=\"$exp\" $job\n",
    "\n",
    "                jobid = int(output[0].split(' ')[-1])\n",
    "                fid = fid+'-%s' % jobid\n",
    "\n",
    "                fids.append(fid)"
   ]
  },
  {
   "cell_type": "code",
   "execution_count": null,
   "metadata": {},
   "outputs": [],
   "source": [
    "print(fids)"
   ]
  },
  {
   "cell_type": "code",
   "execution_count": null,
   "metadata": {},
   "outputs": [],
   "source": [
    "!squeue -u $username\n",
    "\n",
    "\"\"\"\n",
    "to remove all jobs queued\n",
    "\n",
    "squeue -u adambre | awk '{if ($1!=JOBID) && ($1!=160158) {print $1}}' | tail -n +2 |xargs scancel\n",
    "\n",
    "\n",
    "\"\"\""
   ]
  },
  {
   "cell_type": "code",
   "execution_count": null,
   "metadata": {
    "scrolled": false
   },
   "outputs": [],
   "source": [
    "for fid in fids: \n",
    "    print('------')\n",
    "    print(fid)\n",
    "    !tail -n 10 \"$fid\".out\n",
    "    !tail -n 5 \"$fid\".err\n",
    "    print(' \\n\\n')"
   ]
  },
  {
   "cell_type": "code",
   "execution_count": null,
   "metadata": {},
   "outputs": [],
   "source": []
  }
 ],
 "metadata": {
  "kernelspec": {
   "display_name": "Python 3",
   "language": "python",
   "name": "python3"
  },
  "language_info": {
   "codemirror_mode": {
    "name": "ipython",
    "version": 3
   },
   "file_extension": ".py",
   "mimetype": "text/x-python",
   "name": "python",
   "nbconvert_exporter": "python",
   "pygments_lexer": "ipython3",
   "version": "3.7.4"
  }
 },
 "nbformat": 4,
 "nbformat_minor": 2
}
