{
 "cells": [
  {
   "cell_type": "code",
   "execution_count": 15,
   "metadata": {},
   "outputs": [
    {
     "name": "stdout",
     "output_type": "stream",
     "text": [
      "The autoreload extension is already loaded. To reload it, use:\n",
      "  %reload_ext autoreload\n"
     ]
    }
   ],
   "source": [
    "from __future__ import print_function \n",
    "\n",
    "%load_ext autoreload\n",
    "%autoreload 2\n",
    "\n",
    "from matplotlib import pyplot as plt\n",
    "%matplotlib inline\n",
    "\n",
    "import os, sys\n",
    "import numpy as np\n",
    "import time\n",
    "\n",
    "import tensorflow as tf\n",
    "from tensorflow.keras import backend as K\n",
    "\n",
    "import pandas as pd\n",
    "import pickle\n",
    "import gc, re, copy\n",
    "from sklearn.model_selection import train_test_split\n",
    "from tensorflow.python.keras.layers import deserialize, serialize\n",
    "from tensorflow.python.keras.saving import saving_utils\n",
    "\n",
    "# Project imports \n",
    "from data import mnist_m as mnistm\n",
    "from data import mnist\n",
    "from data.label_shift import label_shift_linear, plot_labeldist, plot_splitbars\n",
    "from data.tasks import load_task\n",
    "from experiments.training import *\n",
    "from experiments.SL_bound import *\n",
    "from experiments.DA_bound import *\n",
    "from bounds.bounds import *\n",
    "from util.kl import *\n",
    "from util.misc import *\n",
    "from util.batch import *\n",
    "from results.plotting import *\n",
    "\n",
    "# Hyper-parameters\n",
    "task = 2\n",
    "seed = 69105\n",
    "batch_size = 128\n",
    "num_classes = 10\n",
    "n_classifiers = 2\n",
    "epochs = 10\n",
    "make_plots = False\n",
    "delta=0.05 ## what would this be?   \n",
    "binary=True\n",
    "bound='germain'\n",
    "epsilons=[0.01]\n",
    "alphas=[0.1]#0,0.3]\n",
    "sigmas=[[3,2],[3,3]]\n",
    "\n",
    "project_folder = \"/cephyr/users/frejohk/Alvis/projects/\""
   ]
  },
  {
   "cell_type": "code",
   "execution_count": 4,
   "metadata": {},
   "outputs": [
    {
     "data": {
      "text/plain": [
       "['3', ',', '3']"
      ]
     },
     "execution_count": 4,
     "metadata": {},
     "output_type": "execute_result"
    }
   ],
   "source": [
    "list('3,3')"
   ]
  },
  {
   "cell_type": "markdown",
   "metadata": {},
   "source": [
    "# Alvis params"
   ]
  },
  {
   "cell_type": "code",
   "execution_count": 2,
   "metadata": {},
   "outputs": [],
   "source": [
    "project = 'SNIC2021-7-82'\n",
    "username = 'frejohk'\n",
    "job = 'batch_bound_single.sbatch'"
   ]
  },
  {
   "cell_type": "code",
   "execution_count": 6,
   "metadata": {},
   "outputs": [
    {
     "name": "stdout",
     "output_type": "stream",
     "text": [
      "             JOBID PARTITION     NAME     USER ST       TIME  NODES NODELIST(REASON) \r\n",
      "            103465     alvis     bash  frejohk  R    2:53:08      1 alvis1-08 \r\n"
     ]
    }
   ],
   "source": [
    "!squeue -u $username"
   ]
  },
  {
   "cell_type": "code",
   "execution_count": 7,
   "metadata": {},
   "outputs": [
    {
     "name": "stdout",
     "output_type": "stream",
     "text": [
      "#!/usr/bin/bash\r\n",
      "\r\n",
      "#SBATCH -t 1-00:00:00\r\n",
      "#SBATCH -N 1 --gpus-per-node=V100:1\r\n",
      "#SBATCH -p alvis \r\n",
      "\r\n",
      "if [ -z \"$task\" ]\r\n",
      "then\r\n",
      "    task=2\r\n",
      "fi\r\n",
      "if [ -z \"$seed\" ]\r\n",
      "then \r\n",
      "    seed=69105\r\n",
      "fi\r\n",
      "if [ -z \"$alpha\" ]\r\n",
      "then \r\n",
      "    alpha=0.0\r\n",
      "fi\r\n",
      "if [ -z \"$sigma\" ]\r\n",
      "then \r\n",
      "    sigma='3,3'\r\n",
      "fi\r\n",
      "if [ -z \"$epsilon\" ]\r\n",
      "then \r\n",
      "    epsilon=0.01\r\n",
      "fi\r\n",
      "if [ -z \"$delta\" ]\r\n",
      "then \r\n",
      "    delta=0.05\r\n",
      "fi\r\n",
      "if [ -z \"$binary\" ]\r\n",
      "then \r\n",
      "    binary=0\r\n",
      "fi\r\n",
      "if [ -z \"$nclassifiers\" ]\r\n",
      "then \r\n",
      "    nclassifiers=2\r\n",
      "fi\r\n",
      "if [ -z \"$bound\" ]\r\n",
      "then \r\n",
      "    bound='germain'\r\n",
      "fi\r\n",
      "if [ -z \"$prior\" ]\r\n",
      "then \r\n",
      "    prior=''\r\n",
      "fi\r\n",
      "if [ -z \"$posterior\" ]\r\n",
      "then \r\n",
      "    posterior=''\r\n",
      "fi\r\n",
      "\r\n",
      ". load_modules.sh\r\n",
      "\r\n",
      "python batch_bound_single.py -t $task -r $seed -a $alpha -s $sigma -e $epsilon -d $delta -b $binary -n $nclassifiers -B $bound -p $prior -P $posterior"
     ]
    }
   ],
   "source": [
    "!cat $job"
   ]
  },
  {
   "cell_type": "code",
   "execution_count": 52,
   "metadata": {
    "scrolled": false
   },
   "outputs": [
    {
     "name": "stdout",
     "output_type": "stream",
     "text": [
      "Iterating over experiments...\n",
      "\n",
      "alpha:0.1\n",
      "  epsilon:0.01\n",
      "    sigma:[3, 2]\n",
      "['sbatch: error: Unable to open file binary=1,nclassifiers=2,bound=germain,prior=priors/task2/Binary/10/prior.ckpt,posterior=posteriors/task2/Binary/10_10/1_0.ckpt']\n"
     ]
    },
    {
     "ename": "ValueError",
     "evalue": "invalid literal for int() with base 10: 'binary=1,nclassifiers=2,bound=germain,prior=priors/task2/Binary/10/prior.ckpt,posterior=posteriors/task2/Binary/10_10/1_0.ckpt'",
     "output_type": "error",
     "traceback": [
      "\u001b[0;31m\u001b[0m",
      "\u001b[0;31mValueError\u001b[0mTraceback (most recent call last)",
      "\u001b[0;32m<ipython-input-52-0b9b45ba6862>\u001b[0m in \u001b[0;36m<module>\u001b[0;34m\u001b[0m\n\u001b[1;32m     32\u001b[0m                 \u001b[0mprint\u001b[0m\u001b[0;34m(\u001b[0m\u001b[0moutput\u001b[0m\u001b[0;34m)\u001b[0m\u001b[0;34m\u001b[0m\u001b[0;34m\u001b[0m\u001b[0m\n\u001b[1;32m     33\u001b[0m \u001b[0;34m\u001b[0m\u001b[0m\n\u001b[0;32m---> 34\u001b[0;31m                 \u001b[0mjobid\u001b[0m \u001b[0;34m=\u001b[0m \u001b[0mint\u001b[0m\u001b[0;34m(\u001b[0m\u001b[0moutput\u001b[0m\u001b[0;34m[\u001b[0m\u001b[0;36m0\u001b[0m\u001b[0;34m]\u001b[0m\u001b[0;34m.\u001b[0m\u001b[0msplit\u001b[0m\u001b[0;34m(\u001b[0m\u001b[0;34m' '\u001b[0m\u001b[0;34m)\u001b[0m\u001b[0;34m[\u001b[0m\u001b[0;34m-\u001b[0m\u001b[0;36m1\u001b[0m\u001b[0;34m]\u001b[0m\u001b[0;34m)\u001b[0m\u001b[0;34m\u001b[0m\u001b[0;34m\u001b[0m\u001b[0m\n\u001b[0m\u001b[1;32m     35\u001b[0m                 \u001b[0mfid\u001b[0m \u001b[0;34m=\u001b[0m \u001b[0mfid\u001b[0m\u001b[0;34m+\u001b[0m\u001b[0;34m'-%s'\u001b[0m \u001b[0;34m%\u001b[0m \u001b[0mjobid\u001b[0m\u001b[0;34m\u001b[0m\u001b[0;34m\u001b[0m\u001b[0m\n\u001b[1;32m     36\u001b[0m \u001b[0;34m\u001b[0m\u001b[0m\n",
      "\u001b[0;31mValueError\u001b[0m: invalid literal for int() with base 10: 'binary=1,nclassifiers=2,bound=germain,prior=priors/task2/Binary/10/prior.ckpt,posterior=posteriors/task2/Binary/10_10/1_0.ckpt'"
     ]
    }
   ],
   "source": [
    "print('Iterating over experiments...\\n')\n",
    "\n",
    "fids = []\n",
    "\n",
    "os.makedirs('logs', exist_ok=True)\n",
    "\n",
    "\n",
    "np.random.seed(seed)\n",
    "for alpha in alphas:\n",
    "    \n",
    "    print(\"alpha:\"+str(alpha))\n",
    "    \n",
    "    for epsilon in epsilons:\n",
    "        print(\"  epsilon:\"+str(epsilon))\n",
    "        for sigma in sigmas:    \n",
    "            print(\"    sigma:\"+str(sigma))\n",
    "            arg_list = get_job_args(task, bound=bound, alpha=alpha, sigma=sigma,\n",
    "                                    epsilon=epsilon, binary=binary, n_classifiers=n_classifiers)\n",
    "            for a in arg_list[:5]:   \n",
    "                \n",
    "                ckpt = os.path.splitext(os.path.basename(a['posterior_path']))[0]\n",
    "                fid = './logs/batch_t-%d_r-%d_a-%.4f_s-%d%d_e-%.4f_d-%.4f_b-%d_n-%d_B-%s_c-%s' % \\\n",
    "                    (task, seed, alpha, sigma[0], sigma[1], epsilon, delta, binary, n_classifiers, bound, ckpt)\n",
    "                \n",
    "                sigstr = '%d,%d' % (sigma[0], sigma[1])\n",
    "                exp = 'task=%d,seed=%d,alpha=%.4f,sigma=\"%s\",epsilon=%.4f,delta=%.4f,\\\n",
    "                        binary=%d,nclassifiers=%d,bound=%s,prior=%s,posterior=%s' % \\\n",
    "                        (task, seed, alpha, sigstr, epsilon, delta, binary, n_classifiers, bound, a['prior_path'], a['posterior_path'])\n",
    "                \n",
    "                prior_path = a['prior_path']\n",
    "                output = !sbatch -o \"$fid\"-%j.out -e \"$fid\"-%j.err -A $project --export=\"$exp\" $job\n",
    "                print(output)\n",
    "\n",
    "                jobid = int(output[0].split(' ')[-1])\n",
    "                fid = fid+'-%s' % jobid\n",
    "\n",
    "                fids.append(fid)\n",
    "\n",
    "                \n",
    "                break\n",
    "            break\n",
    "        break\n",
    "    break\n",
    "\n",
    "            #compute_bound_parts(a['task'], a['posterior_path'], x_bound, y_bound, x_target, y_target_bin, \n",
    "                          #prior_path=a['prior_path'], bound=a['bound'], binary=a['binary'], sigma=a['sigma'], \n",
    "                          #epsilon=0.01, n_classifiers=a['n_classifiers'])\n",
    "            \n",
    "               "
   ]
  },
  {
   "cell_type": "code",
   "execution_count": 41,
   "metadata": {},
   "outputs": [
    {
     "name": "stdout",
     "output_type": "stream",
     "text": [
      "['./logs/batch_t-2_r-69105_a-0.1000_s-32_e-0.0100_d-0.0500_b-1_n-2_B-germain_c-1_0-103526']\n"
     ]
    }
   ],
   "source": [
    "print(fids)"
   ]
  },
  {
   "cell_type": "code",
   "execution_count": 47,
   "metadata": {},
   "outputs": [
    {
     "name": "stdout",
     "output_type": "stream",
     "text": [
      "             JOBID PARTITION     NAME     USER ST       TIME  NODES NODELIST(REASON) \r\n",
      "            103526     alvis batch_bo  frejohk PD       0:00      1 (Priority) \r\n",
      "            103465     alvis     bash  frejohk  R    3:13:25      1 alvis1-08 \r\n"
     ]
    }
   ],
   "source": [
    "!squeue -u $username"
   ]
  },
  {
   "cell_type": "code",
   "execution_count": 50,
   "metadata": {},
   "outputs": [
    {
     "name": "stdout",
     "output_type": "stream",
     "text": [
      "./logs/batch_t-2_r-69105_a-0.1000_s-32_e-0.0100_d-0.0500_b-1_n-2_B-germain_c-1_0-103526\n",
      "This job can be monitored from: https://scruffy.c3se.chalmers.se/d/alvis-job/alvis-job?var-jobid=103526&from=1632830346000\n",
      "\n",
      "0\n",
      "\n",
      " \n",
      "\n",
      "\n"
     ]
    }
   ],
   "source": [
    "for fid in fids: \n",
    "    print(fid)\n",
    "    !tail -n 5 \"$fid\".out\n",
    "    !tail -n 5 \"$fid\".err\n",
    "    print(' \\n\\n')"
   ]
  },
  {
   "cell_type": "code",
   "execution_count": null,
   "metadata": {},
   "outputs": [],
   "source": []
  }
 ],
 "metadata": {
  "kernelspec": {
   "display_name": "Python 3",
   "language": "python",
   "name": "python3"
  },
  "language_info": {
   "codemirror_mode": {
    "name": "ipython",
    "version": 3
   },
   "file_extension": ".py",
   "mimetype": "text/x-python",
   "name": "python",
   "nbconvert_exporter": "python",
   "pygments_lexer": "ipython3",
   "version": "3.7.4"
  }
 },
 "nbformat": 4,
 "nbformat_minor": 2
}
